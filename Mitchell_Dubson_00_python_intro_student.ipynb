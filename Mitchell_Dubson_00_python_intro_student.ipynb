{
  "nbformat": 4,
  "nbformat_minor": 0,
  "metadata": {
    "colab": {
      "provenance": [],
      "include_colab_link": true
    },
    "kernelspec": {
      "name": "python3",
      "display_name": "Python 3"
    },
    "language_info": {
      "name": "python"
    }
  },
  "cells": [
    {
      "cell_type": "markdown",
      "metadata": {
        "id": "view-in-github",
        "colab_type": "text"
      },
      "source": [
        "<a href=\"https://colab.research.google.com/github/m07dubs/CompPhys/blob/main/Mitchell_Dubson_00_python_intro_student.ipynb\" target=\"_parent\"><img src=\"https://colab.research.google.com/assets/colab-badge.svg\" alt=\"Open In Colab\"/></a>"
      ]
    },
    {
      "cell_type": "code",
      "execution_count": null,
      "metadata": {
        "id": "kvsJXb9MqEbx"
      },
      "outputs": [],
      "source": []
    },
    {
      "cell_type": "markdown",
      "source": [
        "# Import modules\n",
        "\n",
        "```\n",
        "import numpy as np\n",
        "from matplotlib import pyplot as plt\n",
        "```"
      ],
      "metadata": {
        "id": "3W-irX9hqHyY"
      }
    },
    {
      "cell_type": "code",
      "source": [
        "import numpy as np\n",
        "import matplotlib.pyplot as plt\n"
      ],
      "metadata": {
        "id": "PUDGrE9RqNPo"
      },
      "execution_count": 1,
      "outputs": []
    },
    {
      "cell_type": "markdown",
      "source": [
        "# Defining Variables\n",
        "\n",
        "### A single variable\n",
        "```\n",
        "x = 2\n",
        "```\n",
        "\n",
        "### A list\n",
        "A list can contain different types of elements: numbers, strings, array, tuples.\n",
        "```\n",
        "mynumbers = [1,2,3]\n",
        "```\n",
        "\n",
        "```\n",
        "myletters = ['a','b','c','d','e']\n",
        "```\n",
        "\n",
        "\n"
      ],
      "metadata": {
        "id": "tfvZlkCbqPz5"
      }
    },
    {
      "cell_type": "code",
      "source": [
        "# define a variable x and set it equal to 1\n",
        "x = 1"
      ],
      "metadata": {
        "id": "RZ31vpmLqa4T"
      },
      "execution_count": 2,
      "outputs": []
    },
    {
      "cell_type": "markdown",
      "source": [
        "# Printing\n",
        "\n",
        "Printing is so important when developing code.  If something is not working,\n",
        "you should insert print statements to check the values of your variables\n",
        "at different points in your code.\n",
        "\n",
        "The basic print format is:\n",
        "\n",
        "```\n",
        "print(\"This is a print statement.\")\n",
        "```"
      ],
      "metadata": {
        "id": "7tRzR95wqdzv"
      }
    },
    {
      "cell_type": "code",
      "source": [
        "# write a print statement to print \"hello world!\"\n",
        "print(\"hello world!\")\n",
        "print(x)"
      ],
      "metadata": {
        "id": "oLJF171arQ4Y",
        "colab": {
          "base_uri": "https://localhost:8080/"
        },
        "outputId": "ac581ca4-7213-47e8-9999-5f3139944133"
      },
      "execution_count": 4,
      "outputs": [
        {
          "output_type": "stream",
          "name": "stdout",
          "text": [
            "hello world!\n",
            "1\n"
          ]
        }
      ]
    },
    {
      "cell_type": "markdown",
      "source": [
        "# Formatting Printing\n",
        "\n",
        "Our variables often have a large number of decimal places, and you might not\n",
        "want to print the full number.  "
      ],
      "metadata": {
        "id": "li3daLSnrcl-"
      }
    },
    {
      "cell_type": "code",
      "source": [
        "# define the addone function here\n"
      ],
      "metadata": {
        "id": "r8bSMEdrvRl5"
      },
      "execution_count": null,
      "outputs": []
    },
    {
      "cell_type": "code",
      "source": [
        "# formatted print statement\n",
        "print(f\"the value of x = {x}\")"
      ],
      "metadata": {
        "id": "wbXTXLl1uGOy",
        "colab": {
          "base_uri": "https://localhost:8080/"
        },
        "outputId": "3a4b1feb-d40e-44f1-a23e-1adaa48dbfd1"
      },
      "execution_count": 6,
      "outputs": [
        {
          "output_type": "stream",
          "name": "stdout",
          "text": [
            "the value of x = 1\n"
          ]
        }
      ]
    },
    {
      "cell_type": "code",
      "source": [
        "print(f\"pi = {np.pi:.2f}\")\n",
        "print(f\"pi = {np.pi:.2e}\")"
      ],
      "metadata": {
        "colab": {
          "base_uri": "https://localhost:8080/"
        },
        "id": "39jl8wyo5_Ji",
        "outputId": "492932d8-b29b-411b-a4a4-9871ae81e705"
      },
      "execution_count": 10,
      "outputs": [
        {
          "output_type": "stream",
          "name": "stdout",
          "text": [
            "pi = 3.14\n",
            "pi = 3.14e+00\n"
          ]
        }
      ]
    },
    {
      "cell_type": "markdown",
      "source": [
        "# Functions\n",
        "\n",
        "Functions are chunks of code that can take input arguments and\n",
        "can return values.\n",
        "\n",
        "Here is a simple function that takes a number as an input and\n",
        "returns the number plus one and then prints the results.\n",
        "\n",
        "```\n",
        "def addone(x):\n",
        "    \"\"\"  this function adds one to the input number \"\"\"\n",
        "    x = x + 1\n",
        "    print(x)\n",
        "```"
      ],
      "metadata": {
        "id": "t8n87cLIuJsk"
      }
    },
    {
      "cell_type": "code",
      "source": [
        "def addone(z):\n",
        "    \"\"\"  this function adds one to the input number \"\"\"\n",
        "    z = z + 1\n",
        "    return z"
      ],
      "metadata": {
        "id": "Koi0iHPA6w0i"
      },
      "execution_count": 19,
      "outputs": []
    },
    {
      "cell_type": "markdown",
      "source": [
        "### Calling a function\n",
        "\n",
        "In the cell below, set `x=1` and pass `x` to `addone`.\n",
        "\n",
        "Then let's look at what happens to the value of x in the\n",
        "variable editor."
      ],
      "metadata": {
        "id": "ElWsHnE9vczc"
      }
    },
    {
      "cell_type": "code",
      "source": [
        "# define x =\n",
        "x = 1\n",
        "\n",
        "#pass x to function addone\n",
        "addone(x)\n",
        "\n",
        "y = addone(x)\n",
        "print(f\"y = {y}\")\n"
      ],
      "metadata": {
        "id": "zOjAknPIvVF9",
        "colab": {
          "base_uri": "https://localhost:8080/"
        },
        "outputId": "f798a17c-065a-42c3-e29a-dc2e7aac80b9"
      },
      "execution_count": 21,
      "outputs": [
        {
          "output_type": "stream",
          "name": "stdout",
          "text": [
            "y = 2\n"
          ]
        }
      ]
    },
    {
      "cell_type": "markdown",
      "source": [
        "### Returning values from a function"
      ],
      "metadata": {
        "id": "e41blLTnvsut"
      }
    },
    {
      "cell_type": "code",
      "source": [
        "# update the addone funtion to:\n",
        "# print 2 decimal places\n",
        "# return the new value\n",
        "print(f\"y = {y:.2f}\")\n"
      ],
      "metadata": {
        "id": "iMRz5wUUuYcc",
        "colab": {
          "base_uri": "https://localhost:8080/"
        },
        "outputId": "a6121182-47ff-4928-d606-317724e239f6"
      },
      "execution_count": 23,
      "outputs": [
        {
          "output_type": "stream",
          "name": "stdout",
          "text": [
            "y = 2.00\n"
          ]
        }
      ]
    },
    {
      "cell_type": "markdown",
      "source": [
        "# For Loops\n",
        "\n",
        "Let's set up an array to contain 10 values:\n",
        "```\n",
        "myvals = np.arange(10)\n",
        "```\n",
        "\n",
        "Now let's use a for loop to print out the number greater than 5.\n",
        "\n"
      ],
      "metadata": {
        "id": "3g7RUJ2bwsw5"
      }
    },
    {
      "cell_type": "code",
      "source": [
        "# your code here\n",
        "# for loop to print out numbers greater than 5\n",
        "myvals = np.arange(10)\n",
        "\n",
        "for v in myvals:\n",
        "  if (v>5):\n",
        "    print(v)\n",
        "\n",
        "#for i in range(len(myvals)):\n",
        "  #print(myvals[i])"
      ],
      "metadata": {
        "id": "Z6zyk-LUw1BT",
        "colab": {
          "base_uri": "https://localhost:8080/"
        },
        "outputId": "ef3a7d77-6536-457a-ab6b-ccc36b1a1c61"
      },
      "execution_count": 34,
      "outputs": [
        {
          "output_type": "stream",
          "name": "stdout",
          "text": [
            "6\n",
            "7\n",
            "8\n",
            "9\n"
          ]
        }
      ]
    },
    {
      "cell_type": "markdown",
      "source": [
        "# While loops\n",
        "\n",
        "A `while` loop will continue until the conditional is not met.\n",
        "\n",
        "Let's write a while loop to keep incrementing a number until the number reaches 20."
      ],
      "metadata": {
        "id": "N-lEkNdexYFG"
      }
    },
    {
      "cell_type": "code",
      "source": [
        "# while loop to keep incrementing a number until the number reaches 20\n",
        "mynum = 0\n",
        "\n",
        "while mynum < 20:\n",
        "  print(mynum)\n",
        "  mynum = mynum + 1\n",
        "\n",
        "print(f\"mynum = {mynum}\")"
      ],
      "metadata": {
        "id": "nLaKfZn3JXLq",
        "colab": {
          "base_uri": "https://localhost:8080/"
        },
        "outputId": "499758cb-3b52-4d66-fd97-c8f23d2f0da4"
      },
      "execution_count": 38,
      "outputs": [
        {
          "output_type": "stream",
          "name": "stdout",
          "text": [
            "0\n",
            "1\n",
            "2\n",
            "3\n",
            "4\n",
            "5\n",
            "6\n",
            "7\n",
            "8\n",
            "9\n",
            "10\n",
            "11\n",
            "12\n",
            "13\n",
            "14\n",
            "15\n",
            "16\n",
            "17\n",
            "18\n",
            "19\n",
            "mynum = 20\n"
          ]
        }
      ]
    },
    {
      "cell_type": "markdown",
      "source": [
        "# Conditionals\n",
        "\n"
      ],
      "metadata": {
        "id": "7ZSXMMjfw3Zi"
      }
    },
    {
      "cell_type": "code",
      "source": [
        "# ask for an input number\n",
        "test_number = int(input(\"enter a number between 1 and 10\\n\"))\n",
        "\n",
        "# if number is greater than 10, then reject input\n",
        "if test_number > 10:\n",
        "  print(f\"rejected: value too high\")\n",
        "# if number is less than 1, then reject input\n",
        "elif test_number < 1:\n",
        "  print(f\"rejected: value too low\")\n",
        "# if the user enters 7, print \"lucky guess\"\n",
        "elif test_number == 7:\n",
        "  print(f\"lucky guess\")\n",
        "# for all other numbers, print \"not correct - better luck next time!\"\n",
        "else:\n",
        "  print(f\"not correct - better luck next time!\")"
      ],
      "metadata": {
        "id": "AiSellYDw2gG",
        "colab": {
          "base_uri": "https://localhost:8080/"
        },
        "outputId": "91d7d2cc-6378-4fb3-8287-26288b5e3d68"
      },
      "execution_count": 54,
      "outputs": [
        {
          "output_type": "stream",
          "name": "stdout",
          "text": [
            "enter a number between 1 and 10\n",
            "7\n",
            "lucky guess\n"
          ]
        }
      ]
    },
    {
      "cell_type": "markdown",
      "source": [
        "# Basic Plotting\n",
        "\n",
        "Visualizing variables is essential for checking and understanding the results\n",
        "of any code that we write.\n",
        "\n",
        "We will start with a simple example to plot $y = 2 x^2$ over the range $0 \\le x \\le 10$."
      ],
      "metadata": {
        "id": "tSovgxtxyR7-"
      }
    },
    {
      "cell_type": "code",
      "source": [
        "# code to make plot here\n",
        "\n",
        "# define x using np.linspace\n",
        "x = np.linspace(0,10,100)\n",
        "# define y\n",
        "y = 2*x**2\n",
        "# open a figure\n",
        "plt.figure(figsize = (6,4))\n",
        "\n",
        "# plot y vs x using plt.plot\n",
        "plt.plot(x,y,'cs', markersize = 4,label=\"$y = 2x^2$\")\n",
        "plt.xlabel(\"x\")\n",
        "plt.ylabel(\"y\")\n",
        "plt.title(\"My Plot\")\n",
        "plt.legend()\n",
        "# make another figure, but use plt.scatter instead of plt.plot\n",
        "\n"
      ],
      "metadata": {
        "id": "K401UT-QzA4s",
        "colab": {
          "base_uri": "https://localhost:8080/",
          "height": 428
        },
        "outputId": "6f487616-081f-469a-a212-5c570c67b122"
      },
      "execution_count": 58,
      "outputs": [
        {
          "output_type": "execute_result",
          "data": {
            "text/plain": [
              "<matplotlib.legend.Legend at 0x7caea5345cf0>"
            ]
          },
          "metadata": {},
          "execution_count": 58
        },
        {
          "output_type": "display_data",
          "data": {
            "text/plain": [
              "<Figure size 600x400 with 1 Axes>"
            ],
            "image/png": "[encoded data removed]"
          },
          "metadata": {}
        }
      ]
    },
    {
      "cell_type": "code",
      "source": [
        "plt.figure(figsize=(6,4))\n",
        "\n",
        "mycolor = np.arange(len(x))\n",
        "plt.scatter(x,y,c=mycolor, label=\"$y=2x^2$\")\n",
        "plt.xlabel(\"x\",fontsize=16)\n",
        "plt.ylabel(\"y\", fontsize=16)\n",
        "plt.title(\"My Plot\",fontsize = 20)\n",
        "plt.legend()"
      ],
      "metadata": {
        "id": "0Oa7EG-f0_AM",
        "colab": {
          "base_uri": "https://localhost:8080/",
          "height": 442
        },
        "outputId": "bd0f38cd-5bd1-4aba-9c4a-b9ff775867e1"
      },
      "execution_count": 59,
      "outputs": [
        {
          "output_type": "execute_result",
          "data": {
            "text/plain": [
              "<matplotlib.legend.Legend at 0x7caea5127e80>"
            ]
          },
          "metadata": {},
          "execution_count": 59
        },
        {
          "output_type": "display_data",
          "data": {
            "text/plain": [
              "<Figure size 600x400 with 1 Axes>"
            ],
            "image/png": "[encoded data removed]"
          },
          "metadata": {}
        }
      ]
    },
    {
      "cell_type": "markdown",
      "source": [
        "# Function Practice\n",
        "\n",
        "Convert the lucky 7 cell into a function where user passes in a test value."
      ],
      "metadata": {
        "id": "GcC__sxoH_8w"
      }
    },
    {
      "cell_type": "code",
      "source": [
        "def lucky7(test_number):\n",
        " # test_number = int(input(\"enter a number between 1 and 10\\n\"))\n",
        " if test_number > 10:\n",
        "  print(f\"rejected: number too high\")\n",
        "\n",
        " elif test_number < 1:\n",
        "  print(f\"rejected: number too low\")\n",
        "\n",
        " elif test_number == 7:\n",
        "  print(f\"Lucky Guess!\")\n",
        "\n",
        " else:\n",
        "  print(f\"not correct, better luck next time\")\n"
      ],
      "metadata": {
        "id": "aSMkrg0eIMms"
      },
      "execution_count": 64,
      "outputs": []
    },
    {
      "cell_type": "code",
      "source": [
        "lucky7(7)"
      ],
      "metadata": {
        "colab": {
          "base_uri": "https://localhost:8080/"
        },
        "id": "66w2NRAgJwJf",
        "outputId": "dbba4fcc-433e-43d0-96d4-97a1b5308954"
      },
      "execution_count": 65,
      "outputs": [
        {
          "output_type": "stream",
          "name": "stdout",
          "text": [
            "Lucky Guess!\n"
          ]
        }
      ]
    },
    {
      "cell_type": "code",
      "source": [
        "lucky7(1)"
      ],
      "metadata": {
        "colab": {
          "base_uri": "https://localhost:8080/"
        },
        "id": "CgR0yDK9Jyyc",
        "outputId": "d1c29008-dde6-49cc-bf9a-23e8282ecd50"
      },
      "execution_count": 66,
      "outputs": [
        {
          "output_type": "stream",
          "name": "stdout",
          "text": [
            "not correct, better luck next time\n"
          ]
        }
      ]
    },
    {
      "cell_type": "code",
      "source": [
        "lucky7(0)"
      ],
      "metadata": {
        "colab": {
          "base_uri": "https://localhost:8080/"
        },
        "id": "XbhUpdRtJ03c",
        "outputId": "d394694c-797f-4ebf-9be1-49687f86fe98"
      },
      "execution_count": 67,
      "outputs": [
        {
          "output_type": "stream",
          "name": "stdout",
          "text": [
            "rejected: number too low\n"
          ]
        }
      ]
    },
    {
      "cell_type": "code",
      "source": [
        "lucky7(11)"
      ],
      "metadata": {
        "colab": {
          "base_uri": "https://localhost:8080/"
        },
        "id": "fzQf3lgvKINO",
        "outputId": "1a997be8-4567-4785-ca02-6c969228ebf5"
      },
      "execution_count": 68,
      "outputs": [
        {
          "output_type": "stream",
          "name": "stdout",
          "text": [
            "rejected: number too high\n"
          ]
        }
      ]
    },
    {
      "cell_type": "code",
      "source": [
        "lucky7(8)"
      ],
      "metadata": {
        "colab": {
          "base_uri": "https://localhost:8080/"
        },
        "id": "MSXjKVnhKJ7A",
        "outputId": "e14e5678-8a6e-4480-b322-749fc49a39c1"
      },
      "execution_count": 69,
      "outputs": [
        {
          "output_type": "stream",
          "name": "stdout",
          "text": [
            "not correct, better luck next time\n"
          ]
        }
      ]
    },
    {
      "cell_type": "code",
      "source": [],
      "metadata": {
        "id": "SIWBNiLhKM17"
      },
      "execution_count": null,
      "outputs": []
    }
  ]
}