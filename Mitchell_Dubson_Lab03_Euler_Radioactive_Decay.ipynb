{
  "nbformat": 4,
  "nbformat_minor": 0,
  "metadata": {
    "colab": {
      "provenance": [],
      "include_colab_link": true
    },
    "kernelspec": {
      "name": "python3",
      "display_name": "Python 3"
    },
    "language_info": {
      "name": "python"
    }
  },
  "cells": [
    {
      "cell_type": "markdown",
      "metadata": {
        "id": "view-in-github",
        "colab_type": "text"
      },
      "source": [
        "<a href=\"https://colab.research.google.com/github/m07dubs/CompPhys/blob/main/Mitchell_Dubson_Lab03_Euler_Radioactive_Decay.ipynb\" target=\"_parent\"><img src=\"https://colab.research.google.com/assets/colab-badge.svg\" alt=\"Open In Colab\"/></a>"
      ]
    },
    {
      "cell_type": "markdown",
      "source": [
        "# Lab 3: The Euler Method for Integrating Ordinary Differential Equantions\n",
        "\n",
        "*Written by Rose Finn*\n",
        "\n",
        "*Adapted from Giordano and Nakanishi, [Computational Physics](https://www.physics.purdue.edu/~hisao/book/), Chapter 1*\n",
        "\n",
        "# Overview\n",
        "\n",
        "The goal of this lab is to use the **Euler method** to model system that are changing with time.  If we can describe how the system changes with time, then we can determine how the system changes by stepping it forward in time using  tiny intervals of time.  This is the basic idea behind the Euler method."
      ],
      "metadata": {
        "id": "dXQCRRvekktg"
      }
    },
    {
      "cell_type": "code",
      "source": [
        "# import numpy and pyplot here\n",
        "import numpy as np\n",
        "import matplotlib.pyplot as plt"
      ],
      "metadata": {
        "id": "DhigXHbty-Oc"
      },
      "execution_count": 65,
      "outputs": []
    },
    {
      "cell_type": "markdown",
      "source": [
        "# Function Warm Up\n",
        "\n",
        "(5 points)\n",
        "\n",
        "Before starting the lab, we will do one problem to keep building our function-writing skills.\n",
        "\n",
        "**The problem**: Write a function that calculates the mean and standard deviation for a list of numbers.  Hint: the functions `np.mean()` and `np.std()` should be useful!\n",
        "\n",
        "Function requirements:\n",
        "* input = list/array of numbers\n",
        "* return = mean, std\n",
        "\n",
        "Be sure to include a descriptive comment string at the beginning of your function.\n"
      ],
      "metadata": {
        "id": "PEwzUWrOYKp8"
      }
    },
    {
      "cell_type": "code",
      "source": [
        "# your function here\n",
        "def mean_and_std(input):\n",
        "  mean = np.mean(input)\n",
        "  std = np.std(input)\n",
        "  return mean , std"
      ],
      "metadata": {
        "id": "8bmRFkisYJ2y"
      },
      "execution_count": 66,
      "outputs": []
    },
    {
      "cell_type": "code",
      "source": [
        "\n",
        "myvalues = np.random.normal(size = 100, loc = 100, scale=20)\n",
        "x = myvalues\n",
        "# Feed the following array into your function\n",
        "# print out the mean and standard deviation\n",
        "# use a formatted print statement to print two decimal places\n",
        "print(f\"The mean and Standard Deviation of these are: {mean_and_std(x)}\")"
      ],
      "metadata": {
        "id": "v0E8n2wtyej1",
        "colab": {
          "base_uri": "https://localhost:8080/"
        },
        "outputId": "82c4d392-b50c-4c40-f78f-423831359569"
      },
      "execution_count": 67,
      "outputs": [
        {
          "output_type": "stream",
          "name": "stdout",
          "text": [
            "The mean and Standard Deviation of these are: (98.18700892248575, 21.120846530750057)\n"
          ]
        }
      ]
    },
    {
      "cell_type": "markdown",
      "source": [
        "# Radioactive Decay\n",
        "\n",
        "We will use the Euler method to calculate how many radioactive nuclei survive as a function of time.  We talked about Uranium 235, but this could apply to any radioactive nuclei.  In fact, this could apply to anything that is experiencing an exponential decay.\n",
        "\n",
        "## Differential Equation Described How $N_U$ Changes With Time\n",
        "\n",
        "The equation that describes how the number of surviving nuclei changes with time is:\n",
        "\n",
        "$$ \\frac{dN}{dt} = - \\frac{N}{\\tau} $$\n",
        "\n",
        "where\n",
        "* N = number of nuclei present\n",
        "* $\\tau$ = half-live of the nuclei\n",
        "\n",
        "We can solve this particular [`Ordinary Differential Equation`](https://en.wikipedia.org/wiki/Ordinary_differential_equation) by separating variables and integrating:\n",
        "\n",
        "1. Separate variables\n",
        "$$ \\frac{dN}{N} = - \\frac{dt}{\\tau} $$\n",
        "2. Integrate\n",
        "$$ \\int_{N_0}^N \\frac{dN}{N} = - \\int_0^t \\frac{dt}{\\tau} $$\n",
        "$$ ln(N/N_0) = -\\frac{1}{\\tau} t $$\n",
        "3. Raise each side to the exponential\n",
        "$$ e^{ln(N/N_0)} = e^{-\\frac{1}{\\tau} t} $$\n",
        "$$ N/N_0 = e^{-\\frac{t}{\\tau}} $$\n",
        "4. This gives the analytic solution to how the number of nuclei changes with time:\n",
        "$$ N(t) = N_0 e^{-\\frac{t}{\\tau}} $$\n",
        "\n",
        "So although we can solve this equation analytically, it is a nice example to use for illustrating how the Euler method works.\n",
        "\n",
        "## Euler Method\n",
        "\n",
        "We can write the Taylor Expansion for $N(t)$ as\n",
        "\n",
        "$$ N(t + Δt) ≈ N(t) + \\frac{dN}{dt} \\Delta t $$\n",
        "\n",
        "We can then substitute $ \\frac{dN}{dt} = - \\frac{N}{\\tau} $ to get\n",
        "\n",
        "$$ N(t + Δt) ≈ N(t) - \\frac{N}{\\tau} \\Delta t $$\n",
        "\n",
        "Below you will write the functions that we need to calculate how the number of surviving Uranium nuclei ($N_U$) changes with time."
      ],
      "metadata": {
        "id": "UYM2PWqTXsLg"
      }
    },
    {
      "cell_type": "markdown",
      "source": [
        "\n",
        "### Write function to set up the time and number arrays\n",
        "\n",
        "(5 points)\n",
        "\n",
        "Write a function **initialize** that has the following.\n",
        "\n",
        "* input\n",
        "  * N0 = initial number of nuclei\n",
        "  * tau = decay half-life of the nuclei\n",
        "  * tmax = how long to calculate N and time\n",
        "  * dt = the time step to use for advancing the system\n",
        "\n",
        "* the function will\n",
        "  * calculate nsteps (this is tmax/dt), and make sure nsteps in an integer.\n",
        "  * define arrays for time *t* and the number of surviving nuclei *n_nuclei*.  These array should initially be set to zero, and they should have be *nsteps* long.\n",
        "  * set the first element of *n_nuclei* to N0\n",
        "\n",
        "* return\n",
        "  * *t, n_nuclei* arrays"
      ],
      "metadata": {
        "id": "_Aw1HhF-y6T7"
      }
    },
    {
      "cell_type": "code",
      "source": [
        "# write function initialize here\n",
        "def initialize(N0,tau,tmax,dt):\n",
        "  n_steps = int(tmax/dt)\n",
        "  t = np.zeros(n_steps)\n",
        "  n_nuclei = np.zeros(n_steps)\n",
        "  n_nuclei[0] = N0\n",
        "  return t, n_nuclei"
      ],
      "metadata": {
        "id": "rAl4eHOJXsej"
      },
      "execution_count": 68,
      "outputs": []
    },
    {
      "cell_type": "markdown",
      "source": [
        "### Write function to implement Euler calculation\n",
        "\n",
        "(5 points)\n",
        "\n",
        "Write a function **calculate** that does the following:\n",
        "\n",
        "* input\n",
        "  * time array, *t*\n",
        "  * array containing the number of surviving nuclei at each time step, *n_nuclei*\n",
        "  * dt\n",
        "  * tau\n",
        "\n",
        "\n",
        "* the function will\n",
        "  * loop over arrays and calculate:\n",
        "\n",
        "  ```\n",
        "  n_nuclei[i] = n_nuclei[i-1] - n_nuclei[i-1]/tau * dt\n",
        "  t[i] = t[i-1] + dt\n",
        "  ```  \n",
        "\n",
        "* return\n",
        "  *  *t, n_nuclei* arrays"
      ],
      "metadata": {
        "id": "uXf9Tr_e0X_2"
      }
    },
    {
      "cell_type": "code",
      "source": [
        "# write your calculate function here\n",
        "def calculate(t,n_nuclei,dt,tau):\n",
        "  for i in range(1,len(t)):\n",
        "\n",
        "    n_nuclei[i] = n_nuclei[i-1] - n_nuclei[i-1]/tau * dt\n",
        "    t[i] = t[i-1] + dt\n",
        "\n",
        "  return t, n_nuclei\n"
      ],
      "metadata": {
        "id": "PkuO7SiY2PQS"
      },
      "execution_count": 69,
      "outputs": []
    },
    {
      "cell_type": "markdown",
      "source": [
        "### Running your code\n",
        "\n",
        "(5 points)\n",
        "\n",
        "You now just need to set up the initial values and call your functions.\n",
        "\n",
        "Give the variables the following values:\n",
        "\n",
        "* start with 100 nuclei\n",
        "* set the decay half-life to 1 second\n",
        "* set tmax to 5 seconds\n",
        "* use a time step of 0.05 s\n",
        "\n",
        "When you are finished, check your code with your instructor or LA."
      ],
      "metadata": {
        "id": "nPbJ5zDO2Uv4"
      }
    },
    {
      "cell_type": "code",
      "source": [
        "############################################################\n",
        "# This is your main program that will call the functions.\n",
        "############################################################\n",
        "\n",
        "\n",
        "\n",
        "# define initial values\n",
        "N0 = 100 #nuclei\n",
        "tau = 1 #second(s)\n",
        "tmax = 5 #seconds\n",
        "dt = 0.05 #seconds\n",
        "t = initialize(N0,tau,tmax,dt)[0]\n",
        "n_nuclei = initialize(N0,tau,tmax,dt)[1]\n",
        "# call initialize function\n",
        "initialize(N0,tau,tmax,dt)\n",
        "\n",
        "# call your calculate function\n",
        "calculate(t,n_nuclei,dt,tau)\n"
      ],
      "metadata": {
        "id": "04z99_ug6Tru",
        "colab": {
          "base_uri": "https://localhost:8080/"
        },
        "outputId": "0f7ec8f2-bcac-4a6b-d072-6c2ac8077365"
      },
      "execution_count": 70,
      "outputs": [
        {
          "output_type": "execute_result",
          "data": {
            "text/plain": [
              "(array([0.  , 0.05, 0.1 , 0.15, 0.2 , 0.25, 0.3 , 0.35, 0.4 , 0.45, 0.5 ,\n",
              "        0.55, 0.6 , 0.65, 0.7 , 0.75, 0.8 , 0.85, 0.9 , 0.95, 1.  , 1.05,\n",
              "        1.1 , 1.15, 1.2 , 1.25, 1.3 , 1.35, 1.4 , 1.45, 1.5 , 1.55, 1.6 ,\n",
              "        1.65, 1.7 , 1.75, 1.8 , 1.85, 1.9 , 1.95, 2.  , 2.05, 2.1 , 2.15,\n",
              "        2.2 , 2.25, 2.3 , 2.35, 2.4 , 2.45, 2.5 , 2.55, 2.6 , 2.65, 2.7 ,\n",
              "        2.75, 2.8 , 2.85, 2.9 , 2.95, 3.  , 3.05, 3.1 , 3.15, 3.2 , 3.25,\n",
              "        3.3 , 3.35, 3.4 , 3.45, 3.5 , 3.55, 3.6 , 3.65, 3.7 , 3.75, 3.8 ,\n",
              "        3.85, 3.9 , 3.95, 4.  , 4.05, 4.1 , 4.15, 4.2 , 4.25, 4.3 , 4.35,\n",
              "        4.4 , 4.45, 4.5 , 4.55, 4.6 , 4.65, 4.7 , 4.75, 4.8 , 4.85, 4.9 ,\n",
              "        4.95]),\n",
              " array([100.        ,  95.        ,  90.25      ,  85.7375    ,\n",
              "         81.450625  ,  77.37809375,  73.50918906,  69.83372961,\n",
              "         66.34204313,  63.02494097,  59.87369392,  56.88000923,\n",
              "         54.03600877,  51.33420833,  48.76749791,  46.32912302,\n",
              "         44.01266687,  41.81203352,  39.72143185,  37.73536025,\n",
              "         35.84859224,  34.05616263,  32.3533545 ,  30.73568677,\n",
              "         29.19890243,  27.73895731,  26.35200945,  25.03440897,\n",
              "         23.78268853,  22.5935541 ,  21.46387639,  20.39068257,\n",
              "         19.37114845,  18.40259102,  17.48246147,  16.6083384 ,\n",
              "         15.77792148,  14.9890254 ,  14.23957413,  13.52759543,\n",
              "         12.85121566,  12.20865487,  11.59822213,  11.01831102,\n",
              "         10.46739547,   9.9440257 ,   9.44682441,   8.97448319,\n",
              "          8.52575903,   8.09947108,   7.69449753,   7.30977265,\n",
              "          6.94428402,   6.59706982,   6.26721633,   5.95385551,\n",
              "          5.65616274,   5.3733546 ,   5.10468687,   4.84945252,\n",
              "          4.6069799 ,   4.3766309 ,   4.15779936,   3.94990939,\n",
              "          3.75241392,   3.56479323,   3.38655356,   3.21722589,\n",
              "          3.05636459,   2.90354636,   2.75836904,   2.62045059,\n",
              "          2.48942806,   2.36495666,   2.24670883,   2.13437338,\n",
              "          2.02765472,   1.92627198,   1.82995838,   1.73846046,\n",
              "          1.65153744,   1.56896057,   1.49051254,   1.41598691,\n",
              "          1.34518757,   1.27792819,   1.21403178,   1.15333019,\n",
              "          1.09566368,   1.0408805 ,   0.98883647,   0.93939465,\n",
              "          0.89242492,   0.84780367,   0.80541349,   0.76514281,\n",
              "          0.72688567,   0.69054139,   0.65601432,   0.6232136 ]))"
            ]
          },
          "metadata": {},
          "execution_count": 70
        }
      ]
    },
    {
      "cell_type": "markdown",
      "source": [
        "### Visualizing your results\n",
        "\n",
        "(5 points)\n",
        "\n",
        "* Make a plot of the number of nuclei versus time.\n",
        "* Plot the analytic solution for comparison.\n",
        "\n",
        "Question:  How well do your calculated values compare with the analytic solution?"
      ],
      "metadata": {
        "id": "x9UmVQqb2XM3"
      }
    },
    {
      "cell_type": "code",
      "source": [
        "# plot the number of nuclei versus time using black squares\n",
        "\n",
        "plt.figure()\n",
        "plt.plot(t,n_nuclei, \"ks\")\n",
        "\n",
        "# plot the analytic solution using a solid black line\n",
        "n_analytic = N0* np.exp(-t/tau)\n",
        "plt.plot(t,n_analytic, \"k\")\n"
      ],
      "metadata": {
        "id": "8kT6EoGu2alp",
        "colab": {
          "base_uri": "https://localhost:8080/",
          "height": 447
        },
        "outputId": "3c93930a-814b-436a-e583-1551a67e8f2a"
      },
      "execution_count": 71,
      "outputs": [
        {
          "output_type": "execute_result",
          "data": {
            "text/plain": [
              "[<matplotlib.lines.Line2D at 0x7fb6628846d0>]"
            ]
          },
          "metadata": {},
          "execution_count": 71
        },
        {
          "output_type": "display_data",
          "data": {
            "text/plain": [
              "<Figure size 640x480 with 1 Axes>"
            ],
            "image/png": "[encoded data removed]"
          },
          "metadata": {}
        }
      ]
    },
    {
      "cell_type": "markdown",
      "source": [
        "### Investigating how the timesteps affect the accuracy of the approximation\n",
        "\n",
        "(5 points)\n",
        "\n",
        "You should find that your calculated values do a good job at recovering the analytic solution.  In this section we will see how the results are affected if we choose a different value for dt.\n",
        "\n",
        "Specifically, you should calculate the number of nuclei versus time using a time steps of 0.05 sec, 0.2 sec, and 0.5 sec.  Save the output as different names so you can plot all three together with the analytic solution.\n",
        "\n",
        "Plot the results.\n",
        "* plot the analytic solution with a line.\n",
        "* plot the results from the Euler approximation with points, and use different colors and shapes for each time step.\n",
        "* Make sure your plot has a legend that describes"
      ],
      "metadata": {
        "id": "f6dElRQT2bhX"
      }
    },
    {
      "cell_type": "code",
      "source": [
        "plt.figure()\n",
        "\n",
        "N0 = 100 #nuclei\n",
        "tau = 1 #second(s)\n",
        "tmax = 5 #seconds\n",
        "dt = 0.05 #seconds\n",
        "# code to get number of nuclei and time for dt = 0.05 s\n",
        "dt = 0.05\n",
        "t1,n_nuclei1 = initialize(N0,tau,tmax,dt)\n",
        "t1, n_nuclei1 = calculate(t1,n_nuclei1,dt,tau)\n",
        "t1 = plt.plot(t1,n_nuclei1,\"bs\", label = \"t1\")\n",
        "# code to get number of nuclei and time for dt = 0.2 s\n",
        "dt = 0.2\n",
        "t2, n_nuclei2 = initialize(N0,tau,tmax,dt)\n",
        "t2, n_nuclei2 = calculate(t2,n_nuclei2,dt,tau)\n",
        "t2 = plt.plot(t2,n_nuclei2,\"ro\", label = \"t2\")\n",
        "# code to get number of nuclei and time for dt = 0.5 s\n",
        "dt = 0.5\n",
        "t3, n_nuclei3 = initialize(N0,tau,tmax,dt)\n",
        "t3, n_nuclei3 = calculate(t3,n_nuclei3,dt,tau)\n",
        "t3 = plt.plot(t3,n_nuclei3,\"y*\", label = \"t3\")\n",
        "\n",
        "\n",
        "plt.title(\"Solutions\")\n",
        "# Code to plot the analytic Results\n",
        "t_line= np.linspace(0,tmax,100)\n",
        "n_analytic3 = N0* np.exp(-t_line/tau)\n",
        "plt.plot(t_line,n_analytic3, \"k-\", label = \"t_analytic\")\n",
        "\n",
        "plt.title(\"Analytic Solutions\")\n",
        "\n",
        "plt.legend()\n",
        "plt.xlabel(\"Time(s)\")\n",
        "plt.ylabel(\"Number of Nuclei\")"
      ],
      "metadata": {
        "id": "d109Cw-d2aRb",
        "colab": {
          "base_uri": "https://localhost:8080/",
          "height": 489
        },
        "outputId": "b5cbc8a1-aba5-4549-a72b-60fd3f147d12"
      },
      "execution_count": 90,
      "outputs": [
        {
          "output_type": "execute_result",
          "data": {
            "text/plain": [
              "Text(0, 0.5, 'Number of Nuclei')"
            ]
          },
          "metadata": {},
          "execution_count": 90
        },
        {
          "output_type": "display_data",
          "data": {
            "text/plain": [
              "<Figure size 640x480 with 1 Axes>"
            ],
            "image/png": "[encoded data removed]"
          },
          "metadata": {}
        }
      ]
    },
    {
      "cell_type": "markdown",
      "source": [
        "# Summarize Your Results\n",
        "\n",
        "\n",
        "\n",
        "Complete your wiki page for this lab.  Your wiki should have the following elements.\n",
        "\n",
        "## Background\n",
        "1. Define what an ordinary differential equation is.\n",
        "1. Describe what a Taylor Expansion is and why it is useful\n",
        "1. Describe the general form of the Euler Method and why this is useful for approximating a solution to a differential equation\n",
        "\n",
        "## This Lab\n",
        "1. Describe how we apply the Euler method to approximate how the number of Uranium atoms declines as a function of time.\n",
        "1. Note that in this particular example, we can solve the equation analytically.  Nonetheless, this provides a nice way to introduce the Euler method and examine how some of our numerical choices affect the accuracy of our result.\n",
        "1. Describe does the time step in the Euler method affect the accuracy of your results.  Include the graph that illustrates how the time step affects the accuracy of your results."
      ],
      "metadata": {
        "id": "nLlgBn0P-Aq3"
      }
    },
    {
      "cell_type": "code",
      "source": [],
      "metadata": {
        "id": "51_YWYJd35Ts"
      },
      "execution_count": 72,
      "outputs": []
    }
  ]
}