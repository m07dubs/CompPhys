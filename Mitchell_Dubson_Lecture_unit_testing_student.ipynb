{
  "nbformat": 4,
  "nbformat_minor": 0,
  "metadata": {
    "colab": {
      "provenance": [],
      "include_colab_link": true
    },
    "kernelspec": {
      "name": "python3",
      "display_name": "Python 3"
    },
    "language_info": {
      "name": "python"
    }
  },
  "cells": [
    {
      "cell_type": "markdown",
      "metadata": {
        "id": "view-in-github",
        "colab_type": "text"
      },
      "source": [
        "<a href=\"https://colab.research.google.com/github/m07dubs/CompPhys/blob/main/Mitchell_Dubson_Lecture_unit_testing_student.ipynb\" target=\"_parent\"><img src=\"https://colab.research.google.com/assets/colab-badge.svg\" alt=\"Open In Colab\"/></a>"
      ]
    },
    {
      "cell_type": "markdown",
      "source": [
        "# Testing\n",
        "\n",
        "* When writing functions and programs, we should be sure to test the output.\n",
        "* You can compare the output to what is expected using assert."
      ],
      "metadata": {
        "id": "oFhxG5FhwaT9"
      }
    },
    {
      "cell_type": "code",
      "execution_count": 7,
      "metadata": {
        "id": "duhXt5_ZHLuh"
      },
      "outputs": [],
      "source": [
        "# define a function that multiplies by 2 and subtracts one\n",
        "def myfunc(x):\n",
        "  y = 2*x + 1\n",
        "  return y\n",
        "\n"
      ]
    },
    {
      "cell_type": "code",
      "source": [
        "# use ssert to test the output when the input is equal to x\n",
        "assert myfunc(0) == -1"
      ],
      "metadata": {
        "id": "rnke5hHwqNe5"
      },
      "execution_count": 5,
      "outputs": []
    },
    {
      "cell_type": "markdown",
      "source": [
        "# Using `try` and `except`\n",
        "\n",
        "* We can make this a little more sophisticated using the try/except commands.\n",
        "* This will allow us to give information back to the user without causing the testing cell to crash.\n",
        "* We could also tailor the feedback based on what the function returns.\n"
      ],
      "metadata": {
        "id": "DQ1gyLLQyNaD"
      }
    },
    {
      "cell_type": "code",
      "source": [
        "# demo : use try and except to make the code more robust\n",
        "\n",
        "# if the function returns the correct value, congratulate the user\n",
        "\n",
        "# if the function returns a wrong value, print error message to user\n",
        "\n",
        "try:\n",
        "  assert myfunc(0) == -1\n",
        "except AssertionError:\n",
        "  print(\"The function returned the wrong value!\")"
      ],
      "metadata": {
        "id": "C5EGegacrM0C",
        "colab": {
          "base_uri": "https://localhost:8080/"
        },
        "outputId": "7d24f907-4e1a-474e-bb82-03e32b6010bb"
      },
      "execution_count": 8,
      "outputs": [
        {
          "output_type": "stream",
          "name": "stdout",
          "text": [
            "The function returned the wrong value!\n"
          ]
        }
      ]
    },
    {
      "cell_type": "markdown",
      "source": [
        "# Your turn\n",
        "\n",
        "follow the instructions below to create a function and test it."
      ],
      "metadata": {
        "id": "OK1Oo-n2yY0O"
      }
    },
    {
      "cell_type": "code",
      "source": [
        "# make a function that squares the input\n",
        "def mysquare(x):\n",
        "  y = x**2\n",
        "  return y\n"
      ],
      "metadata": {
        "id": "wWFUF590riet"
      },
      "execution_count": 10,
      "outputs": []
    },
    {
      "cell_type": "code",
      "source": [
        "# test with a positive number\n",
        "try:\n",
        "  assert mysquare(2) == 4\n",
        "except AssertionError:\n",
        "  print(\"The function returned the wrong value!\")\n",
        "# test with a negative number\n",
        "try:\n",
        "  assert mysquare(-2) == 4\n",
        "except AssertionError:\n",
        "  print(\"The function returned the wrong value!\")\n",
        "\n",
        "# test with zero\n",
        "try:\n",
        "  mysquare(0) == 0\n",
        "except AssertionError:\n",
        "  print(\"The function returned the wrong value!\")"
      ],
      "metadata": {
        "id": "5Eb332XWm2sn"
      },
      "execution_count": 11,
      "outputs": []
    },
    {
      "cell_type": "markdown",
      "source": [
        "# Create your own example\n",
        "\n",
        "* Create your own function\n",
        "* develop a test code to check the output of the function"
      ],
      "metadata": {
        "id": "f5hjrr1sm0d6"
      }
    },
    {
      "cell_type": "code",
      "source": [
        "import numpy as np\n",
        "\n",
        "def mysqrt(x):\n",
        "  y = np.sqrt(x)\n",
        "  return y"
      ],
      "metadata": {
        "id": "2Tp2lIAFDgS9"
      },
      "execution_count": 18,
      "outputs": []
    },
    {
      "cell_type": "code",
      "source": [
        "try:\n",
        "  assert mysqrt(25) == 5\n",
        "except AssertionError:\n",
        "  print(\"The function returned the wrong value!\")"
      ],
      "metadata": {
        "id": "yGyfDefpDpK7"
      },
      "execution_count": 19,
      "outputs": []
    }
  ]
}